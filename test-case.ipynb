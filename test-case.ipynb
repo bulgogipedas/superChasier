{
 "cells": [
  {
   "cell_type": "markdown",
   "id": "a0def77e-f739-4d0a-8c9e-afbe683df0d4",
   "metadata": {},
   "source": [
    "# Test Case Super Chasier - Python Project -- Rafli Ardiansyah"
   ]
  },
  {
   "cell_type": "markdown",
   "id": "1406708c-c83d-4798-aaeb-8f3a19037e1f",
   "metadata": {},
   "source": [
    "### Import modul yang diperlukan"
   ]
  },
  {
   "cell_type": "code",
   "execution_count": 2,
   "id": "5e28fa5f-dc72-40d1-8c20-77f1ef77ebe1",
   "metadata": {
    "tags": []
   },
   "outputs": [],
   "source": [
    "from tabulate import tabulate"
   ]
  },
  {
   "cell_type": "code",
   "execution_count": 3,
   "id": "12ef136b-5af3-4494-b5d9-8a23dfa8c1a2",
   "metadata": {
    "tags": []
   },
   "outputs": [],
   "source": [
    "import cashier as c"
   ]
  },
  {
   "cell_type": "code",
   "execution_count": 5,
   "id": "6aecb918-cf26-401d-856c-a93e4d94d1e0",
   "metadata": {
    "tags": []
   },
   "outputs": [],
   "source": [
    "# Membuat object pada transaction\n",
    "trnsct_123 = c.Transaction()"
   ]
  },
  {
   "cell_type": "code",
   "execution_count": 6,
   "id": "a298fe4e-f35d-4b31-8f7c-973d2ca3acda",
   "metadata": {
    "tags": []
   },
   "outputs": [
    {
     "name": "stdout",
     "output_type": "stream",
     "text": [
      "╒═════╤═══════════╤═════════════╤════════════╤═════════════╕\n",
      "│ No. │ Nama Item │ Jumlah Item │ Harga/Item │ Total Harga │\n",
      "╘═════╧═══════════╧═════════════╧════════════╧═════════════╛\n"
     ]
    }
   ],
   "source": [
    "#Tampilkan\n",
    "trnsct_123.show_order()"
   ]
  },
  {
   "cell_type": "markdown",
   "id": "8854a6e9-0f11-4aff-84da-d5811c952370",
   "metadata": {},
   "source": [
    "## Test 1:\n",
    "## Menambahkan Pesanan\n",
    "Customer ingin menambahkan dua item baru menggunakakan method add_item(). Item yang ditambahkan adalah sebagai berikut:\n",
    "<ul>\n",
    "    <li> Nama Item: Ayam Goreng, Qty: 2, Harga:20000</li>\n",
    "    <li> Nama Item: Pasta Gigi, Qty: 3, Harga: 15000</li>\n",
    "</ul>"
   ]
  },
  {
   "cell_type": "code",
   "execution_count": 7,
   "id": "1df26d82-af0b-468d-b962-6fd36ce2e658",
   "metadata": {
    "tags": []
   },
   "outputs": [
    {
     "name": "stdout",
     "output_type": "stream",
     "text": [
      "╒═════╤═════════════╤═════════════╤════════════╤═════════════╕\n",
      "│ No. │ Nama Item   │ Jumlah Item │ Harga/Item │ Total Harga │\n",
      "├─────┼─────────────┼─────────────┼────────────┼─────────────┤\n",
      "│ 1   │ Ayam Goreng │ 2           │ 20000      │ 40000       │\n",
      "├─────┼─────────────┼─────────────┼────────────┼─────────────┤\n",
      "│ 2   │ Pasta Gigi  │ 3           │ 15000      │ 45000       │\n",
      "╘═════╧═════════════╧═════════════╧════════════╧═════════════╛\n"
     ]
    }
   ],
   "source": [
    "trnsct_123.add_item(\"Ayam Goreng\",2, 20000)\n",
    "trnsct_123.add_item(\"Pasta Gigi\",3, 15000)\n",
    "trnsct_123.show_order()"
   ]
  },
  {
   "cell_type": "markdown",
   "id": "9b068211-f97b-473d-ac13-43c94f388425",
   "metadata": {},
   "source": [
    "## Test 2:\n",
    "## Menghapus salah satu item yang dipesan\n",
    "Ternyata Customer salah membeli salah satu item dari belanjaan yang sudah ditambahkan, maka Customer menggunakan method delete_item() untuk menghapus item. Item yang ingin dihapuskan adalah pasta gigi."
   ]
  },
  {
   "cell_type": "code",
   "execution_count": 8,
   "id": "570e4776-5978-451c-825a-7d412dc4c018",
   "metadata": {
    "tags": []
   },
   "outputs": [
    {
     "name": "stdout",
     "output_type": "stream",
     "text": [
      "Anda berhasil menghapus pesanan Pasta Gigi\n",
      "\n",
      "╒═════╤═════════════╤═════════════╤════════════╤═════════════╕\n",
      "│ No. │ Nama Item   │ Jumlah Item │ Harga/Item │ Total Harga │\n",
      "├─────┼─────────────┼─────────────┼────────────┼─────────────┤\n",
      "│ 1   │ Ayam Goreng │ 2           │ 20000      │ 40000       │\n",
      "╘═════╧═════════════╧═════════════╧════════════╧═════════════╛\n"
     ]
    }
   ],
   "source": [
    "trnsct_123.delete_item(\"Pasta Gigi\")\n",
    "trnsct_123.show_order()"
   ]
  },
  {
   "cell_type": "markdown",
   "id": "cae260a9-8e68-4e96-8e2d-657ddad593f9",
   "metadata": {},
   "source": [
    "## Test 3:\n",
    "## Menghapus Semua Item yang Telah Dipesan"
   ]
  },
  {
   "cell_type": "code",
   "execution_count": 9,
   "id": "f90216e3-d81b-4603-a275-ebb3c0aeca2c",
   "metadata": {
    "tags": []
   },
   "outputs": [
    {
     "name": "stdout",
     "output_type": "stream",
     "text": [
      "╒═════╤═════════════╤═════════════╤════════════╤═════════════╕\n",
      "│ No. │ Nama Item   │ Jumlah Item │ Harga/Item │ Total Harga │\n",
      "├─────┼─────────────┼─────────────┼────────────┼─────────────┤\n",
      "│ 1   │ Ayam Goreng │ 2           │ 20000      │ 40000       │\n",
      "├─────┼─────────────┼─────────────┼────────────┼─────────────┤\n",
      "│ 2   │ Bebek       │ 2           │ 48000      │ 96000       │\n",
      "╘═════╧═════════════╧═════════════╧════════════╧═════════════╛\n"
     ]
    }
   ],
   "source": [
    "trnsct_123.add_item(\"Bebek\",2,48000)\n",
    "trnsct_123.show_order()"
   ]
  },
  {
   "cell_type": "code",
   "execution_count": 11,
   "id": "068e2286-47bc-459c-8f4d-4658339bb7f9",
   "metadata": {
    "tags": []
   },
   "outputs": [
    {
     "name": "stdout",
     "output_type": "stream",
     "text": [
      "Anda tidak memiliki daftar pemesanan\n",
      "╒═════╤═══════════╤═════════════╤════════════╤═════════════╕\n",
      "│ No. │ Nama Item │ Jumlah Item │ Harga/Item │ Total Harga │\n",
      "╘═════╧═══════════╧═════════════╧════════════╧═════════════╛\n"
     ]
    }
   ],
   "source": [
    "trnsct_123.reset_transaction()\n",
    "trnsct_123.show_order()"
   ]
  },
  {
   "cell_type": "markdown",
   "id": "6c605f0e-10c0-43ba-ad6d-3c480e693c66",
   "metadata": {},
   "source": [
    "## Menambahkan kembali Item dalam Daftar Pesanan\n",
    "Item/barang yang ingin ditambahkan adalah sebagai berikut:\n",
    "1. Nama Item: Sabun, Qty:4, Harga: 10000\n",
    "2. Nama Item: Handuk, Qty:2, Harga: 70000\n",
    "3. Nama Item: Minyak Goreng, Qty: 5, Harga: 20000\n",
    "4. Nama Item: Kecap Manis, Qty: 4, Harga: 10000"
   ]
  },
  {
   "cell_type": "code",
   "execution_count": 14,
   "id": "ea32c7fd-7790-430f-a7bf-df100b853533",
   "metadata": {
    "tags": []
   },
   "outputs": [
    {
     "name": "stdout",
     "output_type": "stream",
     "text": [
      "╒═════╤═══════════════╤═════════════╤════════════╤═════════════╕\n",
      "│ No. │ Nama Item     │ Jumlah Item │ Harga/Item │ Total Harga │\n",
      "├─────┼───────────────┼─────────────┼────────────┼─────────────┤\n",
      "│ 1   │ Sabun         │ 4           │ 1000       │ 4000        │\n",
      "├─────┼───────────────┼─────────────┼────────────┼─────────────┤\n",
      "│ 2   │ Handuk        │ 2           │ 70000      │ 140000      │\n",
      "├─────┼───────────────┼─────────────┼────────────┼─────────────┤\n",
      "│ 3   │ Minyak Goreng │ 5           │ 20000      │ 100000      │\n",
      "├─────┼───────────────┼─────────────┼────────────┼─────────────┤\n",
      "│ 4   │ Kecap Manis   │ 4           │ 10000      │ 40000       │\n",
      "╘═════╧═══════════════╧═════════════╧════════════╧═════════════╛\n"
     ]
    }
   ],
   "source": [
    "trnsct_123.add_item(\"Sabun\", 4, 1000)\n",
    "trnsct_123.add_item(\"Handuk\", 2, 70000)\n",
    "trnsct_123.add_item(\"Minyak Goreng\", 5, 20000)\n",
    "trnsct_123.add_item(\"Kecap Manis\", 4, 10000)\n",
    "trnsct_123.show_order()"
   ]
  },
  {
   "cell_type": "markdown",
   "id": "822cd504-8e17-4b33-aafd-322c40401323",
   "metadata": {},
   "source": [
    "## Update Pesanan\n",
    "Jika ternyata ada kesalahan dalam memasukkan nama, jumlah atau harga item tetapi tidak ingin menghapus itemnya, Customer dapat menggunakan fitur update item.\n",
    "Contohnya:\n",
    "1. Customer salah memasukkan nama item \"Minyak Goreng\", seharusnya \"Minyak Tanah\"\n",
    "2. Customer ingin membeli 3 buah handuk bukan 2.\n",
    "3. Customer salah memasukkan harga kecap manis dari 10000, menjadi 12000\n"
   ]
  },
  {
   "cell_type": "code",
   "execution_count": 15,
   "id": "f843ee83-a460-4fcc-a30f-5d6cabdc5c4f",
   "metadata": {
    "tags": []
   },
   "outputs": [
    {
     "name": "stdout",
     "output_type": "stream",
     "text": [
      "╒═════╤══════════════╤═════════════╤════════════╤═════════════╕\n",
      "│ No. │ Nama Item    │ Jumlah Item │ Harga/Item │ Total Harga │\n",
      "├─────┼──────────────┼─────────────┼────────────┼─────────────┤\n",
      "│ 1   │ Sabun        │ 4           │ 1000       │ 4000        │\n",
      "├─────┼──────────────┼─────────────┼────────────┼─────────────┤\n",
      "│ 2   │ Handuk       │ 3           │ 70000      │ 210000      │\n",
      "├─────┼──────────────┼─────────────┼────────────┼─────────────┤\n",
      "│ 3   │ Kecap Manis  │ 4           │ 12000      │ 48000       │\n",
      "├─────┼──────────────┼─────────────┼────────────┼─────────────┤\n",
      "│ 4   │ Minyak Tanah │ 5           │ 20000      │ 100000      │\n",
      "╘═════╧══════════════╧═════════════╧════════════╧═════════════╛\n"
     ]
    }
   ],
   "source": [
    "trnsct_123.update_item_name(\"Minyak Goreng\", \"Minyak Tanah\")\n",
    "trnsct_123.update_item_qty(\"Handuk\", 3)\n",
    "trnsct_123.update_item_price(\"Kecap Manis\", 12000)\n",
    "trnsct_123.show_order()"
   ]
  },
  {
   "cell_type": "markdown",
   "id": "a9c72219-9334-4110-be95-1fef4f60c9cf",
   "metadata": {},
   "source": [
    "## Test 4:\n",
    "## Menghitung Total Pesanan yang Harus Dibayar\n",
    "Setelah Customer selesai belanja, akan dihitung total belanja dan dipotong diskon apabila mencapai batas minimal total belanja. Ketentuan diskon adalah:\n",
    "1. Jika diatas Rp200.000 maka mendapatkan diskon 5%\n",
    "2. Jika diatas Rp300.000 maka akan mendapatkan diskon 8%\n",
    "3. Jika diatas Rp500.000 maka akan mendapatkan diskon 10%"
   ]
  },
  {
   "cell_type": "code",
   "execution_count": 16,
   "id": "17f1458d-62ae-4277-ba5a-a441947c313f",
   "metadata": {
    "tags": []
   },
   "outputs": [
    {
     "name": "stdout",
     "output_type": "stream",
     "text": [
      "╒═════╤══════════════╤═════════════╤════════════╤═════════════╕\n",
      "│ No. │ Nama Item    │ Jumlah Item │ Harga/Item │ Total Harga │\n",
      "├─────┼──────────────┼─────────────┼────────────┼─────────────┤\n",
      "│ 1   │ Sabun        │ 4           │ 1000       │ 4000        │\n",
      "├─────┼──────────────┼─────────────┼────────────┼─────────────┤\n",
      "│ 2   │ Handuk       │ 3           │ 70000      │ 210000      │\n",
      "├─────┼──────────────┼─────────────┼────────────┼─────────────┤\n",
      "│ 3   │ Kecap Manis  │ 4           │ 12000      │ 48000       │\n",
      "├─────┼──────────────┼─────────────┼────────────┼─────────────┤\n",
      "│ 4   │ Minyak Tanah │ 5           │ 20000      │ 100000      │\n",
      "╘═════╧══════════════╧═════════════╧════════════╧═════════════╛\n",
      "Selamat Anda mendapat diskon sebesar 8%, \n",
      " sehingga Anda hanya perlu membayar Rp.333040.00 \n"
     ]
    }
   ],
   "source": [
    "trnsct_123.show_order()\n",
    "trnsct_123.total_price()"
   ]
  },
  {
   "cell_type": "code",
   "execution_count": null,
   "id": "090649ba-5a75-49f2-aa40-3d26cd63eee9",
   "metadata": {},
   "outputs": [],
   "source": []
  }
 ],
 "metadata": {
  "kernelspec": {
   "display_name": "Python 3 (ipykernel)",
   "language": "python",
   "name": "python3"
  },
  "language_info": {
   "codemirror_mode": {
    "name": "ipython",
    "version": 3
   },
   "file_extension": ".py",
   "mimetype": "text/x-python",
   "name": "python",
   "nbconvert_exporter": "python",
   "pygments_lexer": "ipython3",
   "version": "3.11.1"
  }
 },
 "nbformat": 4,
 "nbformat_minor": 5
}
